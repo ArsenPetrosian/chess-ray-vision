{
  "nbformat": 4,
  "nbformat_minor": 0,
  "metadata": {
    "colab": {
      "name": "CNN Model First Attempt.ipynb",
      "version": "0.3.2",
      "provenance": [],
      "collapsed_sections": []
    },
    "kernelspec": {
      "name": "python3",
      "display_name": "Python 3"
    },
    "accelerator": "GPU"
  },
  "cells": [
    {
      "metadata": {
        "id": "Yk33mywbpcxd",
        "colab_type": "text"
      },
      "cell_type": "markdown",
      "source": [
        "# PyTorch First Attempt"
      ]
    },
    {
      "metadata": {
        "id": "OgjeP1M8pcxe",
        "colab_type": "code",
        "colab": {
          "base_uri": "https://localhost:8080/",
          "height": 17
        },
        "outputId": "054be691-faf7-457b-d506-cdc971487b64"
      },
      "cell_type": "code",
      "source": [
        "%%javascript\n",
        "IPython.OutputArea.prototype._should_scroll = function(lines) { return false; }\n",
        "// disable scrollable cells"
      ],
      "execution_count": 1,
      "outputs": [
        {
          "output_type": "display_data",
          "data": {
            "application/javascript": [
              "IPython.OutputArea.prototype._should_scroll = function(lines) { return false; }\n",
              "// disable scrollable cells"
            ],
            "text/plain": [
              "<IPython.core.display.Javascript object>"
            ]
          },
          "metadata": {
            "tags": []
          }
        }
      ]
    },
    {
      "metadata": {
        "id": "iX8Q9D1Fpcxj",
        "colab_type": "code",
        "colab": {
          "base_uri": "https://localhost:8080/",
          "height": 51
        },
        "outputId": "cdefd437-3e91-42dd-bfbb-40557b6bb4c8"
      },
      "cell_type": "code",
      "source": [
        "! git clone https://github.com/samryan18/chess-ray-vision\n",
        "! mv chess-ray-vision/clean_notebooks/* .\n",
        "# !mkdir chess\n",
        "# !mv chess-ray-vision/* chess"
      ],
      "execution_count": 2,
      "outputs": [
        {
          "output_type": "stream",
          "text": [
            "fatal: destination path 'chess-ray-vision' already exists and is not an empty directory.\n",
            "mv: cannot stat 'chess-ray-vision/clean_notebooks/*': No such file or directory\n"
          ],
          "name": "stdout"
        }
      ]
    },
    {
      "metadata": {
        "id": "rVc5YZiHpcxl",
        "colab_type": "text"
      },
      "cell_type": "markdown",
      "source": [
        "# Setup Stuff"
      ]
    },
    {
      "metadata": {
        "id": "sbbYxdo7pcxu",
        "colab_type": "code",
        "colab": {}
      },
      "cell_type": "code",
      "source": [
        "# ## Required packages\n",
        "# !pip install tensorflow\n",
        "# !pip install scipy\n",
        "# !pip install numpy\n",
        "# !pip install Pillow\n",
        "# !pip install image\n",
        "\n",
        "# ## Add any other packages you may need below"
      ],
      "execution_count": 0,
      "outputs": []
    },
    {
      "metadata": {
        "id": "G5YloGGWqY72",
        "colab_type": "code",
        "colab": {
          "base_uri": "https://localhost:8080/",
          "height": 173
        },
        "outputId": "f75bde53-3b25-4976-a19b-e1b43e9284ee"
      },
      "cell_type": "code",
      "source": [
        "# http://pytorch.org/\n",
        "from os.path import exists\n",
        "from wheel.pep425tags import get_abbr_impl, get_impl_ver, get_abi_tag\n",
        "platform = '{}{}-{}'.format(get_abbr_impl(), get_impl_ver(), get_abi_tag())\n",
        "cuda_output = !ldconfig -p|grep cudart.so|sed -e 's/.*\\.\\([0-9]*\\)\\.\\([0-9]*\\)$/cu\\1\\2/'\n",
        "accelerator = cuda_output[0] if exists('/dev/nvidia0') else 'cpu'\n",
        "!pip3 install https://download.pytorch.org/whl/cu100/torch-1.0.1-cp36-cp36m-linux_x86_64.whl\n",
        "!pip3 install torchvision\n",
        "  \n",
        "import torch\n",
        "device = torch.device(\"cuda:0\" if torch.cuda.is_available() else \"cpu\")\n",
        "print(device)"
      ],
      "execution_count": 4,
      "outputs": [
        {
          "output_type": "stream",
          "text": [
            "Requirement already satisfied: torch==1.0.1 from https://download.pytorch.org/whl/cu100/torch-1.0.1-cp36-cp36m-linux_x86_64.whl in /usr/local/lib/python3.6/dist-packages (1.0.1)\n",
            "Requirement already satisfied: torchvision in /usr/local/lib/python3.6/dist-packages (0.2.2.post3)\n",
            "Requirement already satisfied: torch in /usr/local/lib/python3.6/dist-packages (from torchvision) (1.0.1)\n",
            "Requirement already satisfied: numpy in /usr/local/lib/python3.6/dist-packages (from torchvision) (1.14.6)\n",
            "Requirement already satisfied: six in /usr/local/lib/python3.6/dist-packages (from torchvision) (1.11.0)\n",
            "Requirement already satisfied: pillow>=4.1.1 in /usr/local/lib/python3.6/dist-packages (from torchvision) (4.1.1)\n",
            "Requirement already satisfied: olefile in /usr/local/lib/python3.6/dist-packages (from pillow>=4.1.1->torchvision) (0.46)\n",
            "cuda:0\n"
          ],
          "name": "stdout"
        }
      ]
    },
    {
      "metadata": {
        "id": "wkGhAHeKpcxx",
        "colab_type": "code",
        "colab": {
          "base_uri": "https://localhost:8080/",
          "height": 34
        },
        "outputId": "347cd7e1-3447-4b4d-c85d-73137ac78a85"
      },
      "cell_type": "code",
      "source": [
        "import torchvision\n",
        "import torch \n",
        "import torch.nn as nn\n",
        "import torchvision.datasets\n",
        "import torchvision.transforms as transforms\n",
        "from torch.autograd import Variable\n",
        "import torch.nn.functional as F\n",
        "import numpy as np;\n",
        "from torch.utils.data import Dataset, DataLoader\n",
        "import time, datetime\n",
        "from pytorch_general.pytorch_helper import imshow\n",
        "from pytorch_general.tensorboard_helper import Logger\n",
        "\n",
        "\n",
        "from typing import Callable\n",
        "import torch\n",
        "import dill\n",
        "import torch.optim as optim\n",
        "device =torch.device(\"cuda:0\" if torch.cuda.is_available() else \"cpu\")\n",
        "device"
      ],
      "execution_count": 5,
      "outputs": [
        {
          "output_type": "execute_result",
          "data": {
            "text/plain": [
              "device(type='cuda', index=0)"
            ]
          },
          "metadata": {
            "tags": []
          },
          "execution_count": 5
        }
      ]
    },
    {
      "metadata": {
        "id": "OIq7Yn4mpmoD",
        "colab_type": "code",
        "colab": {}
      },
      "cell_type": "code",
      "source": [
        "import numpy as np\n",
        "import re\n",
        "piece_symbols = 'prbnkqPRBNKQ'\n",
        "\n",
        "def onehot_from_fen(fen):\n",
        "    eye = np.eye(13)\n",
        "    output = np.empty((0, 13))\n",
        "    fen = re.sub('[-]', '', fen)\n",
        "\n",
        "    for char in fen:\n",
        "        if(char in '12345678'):\n",
        "            output = np.append(\n",
        "              output, np.tile(eye[12], (int(char), 1)), axis=0)\n",
        "        else:\n",
        "            idx = piece_symbols.index(char)\n",
        "            output = np.append(output, eye[idx].reshape((1, 13)), axis=0)\n",
        "\n",
        "    return output\n",
        "\n",
        "def fen_from_onehot(one_hot):\n",
        "    output = ''\n",
        "    for j in range(8):\n",
        "        for i in range(8):\n",
        "            if(one_hot[j][i] == 12):\n",
        "                output += ' '\n",
        "            else:\n",
        "                output += piece_symbols[one_hot[j][i]]\n",
        "        if(j != 7):\n",
        "            output += '-'\n",
        "\n",
        "    for i in range(8, 0, -1):\n",
        "        output = output.replace(' ' * i, str(i))\n",
        "\n",
        "    return output"
      ],
      "execution_count": 0,
      "outputs": []
    },
    {
      "metadata": {
        "id": "IvOPDfgUpcx0",
        "colab_type": "code",
        "colab": {}
      },
      "cell_type": "code",
      "source": [
        "# LOG_DIR = './logs'\n",
        "# get_ipython().system_raw(\n",
        "#     'tensorboard --logdir {} --host 0.0.0.0 --port 6006 &'\n",
        "#     .format(LOG_DIR)\n",
        "# )\n",
        "\n",
        "# !if [ -f ngrok ] ; then echo \"Ngrok already installed\" ; else wget https://bin.equinox.io/c/4VmDzA7iaHb/ngrok-stable-linux-amd64.zip > /dev/null 2>&1 && unzip ngrok-stable-linux-amd64.zip > /dev/null 2>&1 ; fi\n",
        "\n",
        "# get_ipython().system_raw('./ngrok http 6006 &')\n",
        "\n",
        "# ! curl -s http://localhost:4040/api/tunnels | python3 -c \\\n",
        "#     \"import sys, json; print('Tensorboard Link: ' +str(json.load(sys.stdin)['tunnels'][0]['public_url']))\""
      ],
      "execution_count": 0,
      "outputs": []
    },
    {
      "metadata": {
        "id": "QkeM2qiepcx3",
        "colab_type": "code",
        "colab": {}
      },
      "cell_type": "code",
      "source": [
        "# https://www.kaggle.com/meditech101/chess-fen-generator-improved"
      ],
      "execution_count": 0,
      "outputs": []
    },
    {
      "metadata": {
        "id": "1uHyAjRIpcx5",
        "colab_type": "code",
        "colab": {}
      },
      "cell_type": "code",
      "source": [
        ""
      ],
      "execution_count": 0,
      "outputs": []
    },
    {
      "metadata": {
        "id": "oeYZ4VS_pcx7",
        "colab_type": "code",
        "colab": {}
      },
      "cell_type": "code",
      "source": [
        "# root_dir = \"DATASETS\"\n",
        "\n",
        "# # input_size = 256\n",
        "# # input_transforms = transforms.Compose([\n",
        "# #             transforms.RandomResizedCrop(input_size, ratio=(1, 1.3)),\n",
        "# #             transforms.ToTensor()])\n",
        "\n",
        "# input_size = 224\n",
        "# input_transforms = transforms.Compose([\n",
        "#             transforms.Resize((input_size, input_size)),\n",
        "#             transforms.ToTensor(),\n",
        "#             transforms.Normalize(mean=[0.485, 0.456, 0.406],std=[0.229, 0.224, 0.225])])\n",
        "\n",
        "# train_dataset = dogs(root_dir, train=True, subset=3, \n",
        "#                      transform=input_transforms)\n",
        "# test_dataset = dogs(root_dir, train=False, subset=3, \n",
        "#                     transform=input_transforms)\n",
        "\n",
        "# # train_dataset = dogs(root_dir, train=True, subset=3, \n",
        "# #                      transform=transforms.ToTensor())\n",
        "# # test_dataset = dogs(root_dir, train=False, subset=3, \n",
        "# #                     transform=transforms.ToTensor())\n",
        "\n",
        "# batch_size = 50\n",
        "# train_loader = DataLoader(dataset=train_dataset,\n",
        "#                           batch_size=batch_size,\n",
        "#                           shuffle=True);\n",
        "\n",
        "# test_loader = DataLoader(dataset=test_dataset,\n",
        "#                          batch_size=batch_size,\n",
        "#                          shuffle=True);\n",
        "\n",
        "# print(f'train_images size: {len(train_loader)*batch_size}')\n",
        "# print(f'test_images size: {len(test_loader)*batch_size}')\n",
        "\n",
        "# for i in range(5):\n",
        "#     image, label = next(iter(train_loader))\n",
        "#     imshow(image[0,:]);\n",
        "# # 2560 = max"
      ],
      "execution_count": 0,
      "outputs": []
    },
    {
      "metadata": {
        "id": "AzTlMw2xpcx_",
        "colab_type": "code",
        "colab": {}
      },
      "cell_type": "code",
      "source": [
        "from PIL import Image\n",
        "from pathlib import Path\n",
        "\n",
        "\n",
        "def load_datasets(directory='images/'):\n",
        "    pathlist = Path(directory).glob('**/*.jpeg')\n",
        "    labels = []\n",
        "    images = []\n",
        "    for path in pathlist:\n",
        "        label = str(path).split(directory)[1].split(f'.')[0]\n",
        "        label = onehot_from_fen(label)\n",
        "\n",
        "        img = np.asarray(Image.open(str(path))).astype('uint8')\n",
        "        labels.append(label)\n",
        "        images.append(img)\n",
        "        \n",
        "    test_images, test_labels = (images, labels) # TODO\n",
        "        \n",
        "    return images, labels, test_images, test_labels\n",
        "images, labels, test_images, test_labels = load_datasets()"
      ],
      "execution_count": 0,
      "outputs": []
    },
    {
      "metadata": {
        "id": "eyai4agLpcyB",
        "colab_type": "code",
        "colab": {}
      },
      "cell_type": "code",
      "source": [
        ""
      ],
      "execution_count": 0,
      "outputs": []
    },
    {
      "metadata": {
        "id": "E6Ra4VjQpcyE",
        "colab_type": "code",
        "colab": {}
      },
      "cell_type": "code",
      "source": [
        "from PIL import Image\n",
        "from torch.autograd import Variable\n",
        "\n",
        "\n",
        "class CustomChessDataset(Dataset):\n",
        "    \"\"\"Face Landmarks dataset.\"\"\"\n",
        "\n",
        "    def __init__(self, transform=None, train=True):\n",
        "        train_images, train_labels, test_images, test_labels = load_datasets()\n",
        "        self.transform = transform\n",
        "        self.to_tensor = transforms.ToTensor()\n",
        "        if train:\n",
        "            self.images = train_images\n",
        "            self.labels = np.asarray(train_labels)\n",
        "            \n",
        "        else:\n",
        "            self.images = test_images\n",
        "            self.labels = np.asarray(test_labels)\n",
        "\n",
        "    def __len__(self):\n",
        "        return len(self.labels)\n",
        "\n",
        "    def __getitem__(self, idx):\n",
        "        i = self.images[idx]\n",
        "        img_as_img = Image.fromarray(i)\n",
        "        img_as_img = img_as_img.convert('L')\n",
        "\n",
        "        return (self.to_tensor(img_as_img), \n",
        "                self.labels[idx])\n"
      ],
      "execution_count": 0,
      "outputs": []
    },
    {
      "metadata": {
        "id": "-TQBjwIYpcyH",
        "colab_type": "code",
        "colab": {
          "base_uri": "https://localhost:8080/",
          "height": 330
        },
        "outputId": "f73ff559-3ffc-4025-b9ef-76a5de1e6b18"
      },
      "cell_type": "code",
      "source": [
        "# Define a transform to normalize the data\n",
        "transform = transforms.Compose([transforms.ToTensor(),\n",
        "                                transforms.Normalize((0.5, 0.5, 0.5), (0.5, 0.5, 0.5))])\n",
        "\n",
        "train_dataset = CustomChessDataset(train=True, transform=transform)\n",
        "test_dataset = CustomChessDataset(train=False, transform =transform)\n",
        "\n",
        "train_loader = torch.utils.data.DataLoader(dataset=train_dataset,\n",
        "                                           batch_size=1,\n",
        "                                           shuffle=True)\n",
        "\n",
        "test_loader = torch.utils.data.DataLoader(dataset=test_dataset,\n",
        "                                          batch_size=1,\n",
        "                                          shuffle=True)\n",
        "\n",
        "image, label = next(iter(test_loader))\n",
        "imshow(image[0,:]);"
      ],
      "execution_count": 12,
      "outputs": [
        {
          "output_type": "display_data",
          "data": {
            "image/png": "[encoded data removed]",
            "text/plain": [
              "<Figure size 576x396 with 1 Axes>"
            ]
          },
          "metadata": {
            "tags": []
          }
        }
      ]
    },
    {
      "metadata": {
        "id": "L84LWc3jpcyL",
        "colab_type": "code",
        "colab": {}
      },
      "cell_type": "code",
      "source": [
        "def train_model(model: nn.Module, \n",
        "                log_dir: str,\n",
        "                train_loader,\n",
        "                criterion,\n",
        "                optimizer,\n",
        "                num_epochs,\n",
        "               log_freq) -> nn.Module:\n",
        "    t = datetime.datetime.now()\n",
        "    now = time.mktime(t.timetuple()) - 1550000000\n",
        "    logger = Logger(f'{log_dir} ({now})/')\n",
        "    \n",
        "    print(now)\n",
        "\n",
        "    model = model.to(device)\n",
        "\n",
        "    total_step = len(train_loader)\n",
        "    for epoch in range(num_epochs):\n",
        "        running_loss = 0\n",
        "        for step, (images, labels) in enumerate(train_loader):\n",
        "            images, labels = images.to(device), labels.long().to(device)\n",
        "\n",
        "            output = model(images).to(device)\n",
        "            print(np.shape(labels))\n",
        "            print(np.shape(output))\n",
        "            loss = criterion(output, labels).to(device)\n",
        "\n",
        "            optimizer.zero_grad()\n",
        "            loss.backward()\n",
        "            optimizer.step()\n",
        "\n",
        "            # Compute accuracy\n",
        "            _, argmax = torch.max(output, 1)\n",
        "            accuracy = (labels == argmax.squeeze()).float().mean()\n",
        "\n",
        "            running_loss += loss.item()\n",
        "\n",
        "            if step % log_freq == 0:\n",
        "\n",
        "                overall_step = epoch*total_step + step\n",
        "\n",
        "                # 1. Log scalar values (scalar summary)\n",
        "                info = { 'loss': loss.item(), 'accuracy': accuracy.item() }\n",
        "\n",
        "                for key, value in info.items():\n",
        "                    logger.scalar_summary(key, value, overall_step)\n",
        "\n",
        "                # 2. Log values and gradients of the parameters (histogram summary)\n",
        "                for key, value in model.named_parameters():\n",
        "                    key = key.replace('.', '/')\n",
        "                    logger.histo_summary(key, value.data.cpu().numpy(), overall_step)\n",
        "                    try:\n",
        "                        logger.histo_summary(key+'/grad', value.grad.data.cpu().numpy(), overall_step)\n",
        "                    except (AttributeError):\n",
        "                        # During transfer learning some of the variables don't have grads\n",
        "                        pass\n",
        "                        \n",
        "\n",
        "        print(f\"{epoch}: Training loss: {running_loss/len(train_loader)}\")\n",
        "        print(f\"{epoch}: Training accuracy: {accuracy}\")\n",
        " \n",
        "    return model\n",
        "\n",
        "\n",
        "def test_model(model, criterion, test_loader) -> float:\n",
        "    model = model.to(device)\n",
        "    correct = 0\n",
        "    total = 0\n",
        "    accuracies = []\n",
        "    losses = []\n",
        "    total_step = len(test_loader)\n",
        "    with torch.no_grad():\n",
        "        for i in range(total_step):\n",
        "            for  images, labels in test_loader:\n",
        "                images, labels = images.to(device), labels.long().to(device)\n",
        "\n",
        "                output = model(images)\n",
        "                loss = criterion(output, labels)\n",
        "                losses.append(loss.item())\n",
        "\n",
        "\n",
        "                # Compute accuracy\n",
        "                _, argmax = torch.max(output, 1)\n",
        "                accuracy = (labels == argmax.squeeze()).float().mean()\n",
        "                accuracies.append(accuracy)\n",
        "                \n",
        "                \n",
        "\n",
        "    print(f'Accuracy of the network on test images: {np.average(accuracy.cpu())}')\n",
        "    print(f'Avg. Loss of the network on test images: {np.average(losses)}')\n",
        "\n",
        "    return np.average(accuracy.cpu())"
      ],
      "execution_count": 0,
      "outputs": []
    },
    {
      "metadata": {
        "id": "7K27IuX2pcyP",
        "colab_type": "code",
        "colab": {}
      },
      "cell_type": "code",
      "source": [
        "class Net(nn.Module):\n",
        "    def __init__(self):\n",
        "        super(Net, self).__init__()\n",
        "        self.fc1 = nn.Sequential(\n",
        "            nn.Linear(400*400*1, 64*52),\n",
        "            nn.ReLU())\n",
        "        self.fc2 = nn.Sequential(\n",
        "            nn.Linear(64*52, 64*52),\n",
        "            nn.ReLU())\n",
        "        self.fc3 = nn.Sequential(\n",
        "            nn.Linear(64*52, 64*52),\n",
        "            nn.ReLU())\n",
        "        self.fc4 = nn.Sequential(\n",
        "            nn.Linear(64*52, 64*26),\n",
        "            nn.ReLU())\n",
        "        self.fc5 = nn.Sequential(\n",
        "            nn.Linear(64*26, 64*13),\n",
        "            nn.ReLU())\n",
        "        self.fc6 = nn.Sequential(\n",
        "            nn.Linear(64*13, 64*13),\n",
        "            nn.ReLU())\n",
        "\n",
        "    def forward(self, x):\n",
        "        x = x.view(x.shape[0], -1)\n",
        "        out = self.fc1(x)\n",
        "        out = self.fc2(out)\n",
        "        out = self.fc3(out)\n",
        "        out = self.fc4(out)\n",
        "        out = self.fc5(out)\n",
        "        out = self.fc6(out)\n",
        "        out = out.reshape(1, 64, 13)\n",
        "        out = F.log_softmax(out, dim=2)\n",
        "\n",
        "#         out = F.log_softmax(self.fc6(out.reshape(1, 64, 13)), dim=1)\n",
        "\n",
        "        return out\n",
        "    \n",
        "# class CNN(nn.Module):\n",
        "#     def __init__(self):\n",
        "#         super(CNN, self).__init__()\n",
        "\n",
        "#         self.conv1 = nn.Conv2d(3, 32, 4)\n",
        "#         self.bn1 = nn.BatchNorm2d(32)\n",
        "#         self.pool1 = nn.MaxPool2d(2, 2)\n",
        "#         self.dropout1 = nn.Dropout(p = 0.1)\n",
        "\n",
        "#         self.conv2 = nn.Conv2d(32, 64, 3)\n",
        "#         self.bn2 = nn.BatchNorm2d(64)\n",
        "#         self.pool2 = nn.MaxPool2d(2, 2)\n",
        "#         self.dropout2 = nn.Dropout(p = 0.2)\n",
        "\n",
        "#         self.conv3 = nn.Conv2d(64, 128, 2)\n",
        "#         self.bn3 = nn.BatchNorm2d(128)\n",
        "#         self.pool3 = nn.MaxPool2d(2, 2)\n",
        "#         self.dropout3 = nn.Dropout(p = 0.3)\n",
        "\n",
        "#         self.conv4 = nn.Conv2d(128, 256, 3)\n",
        "#         self.bn4 = nn.BatchNorm2d(256)\n",
        "#         self.pool4 = nn.MaxPool2d(2, 2)\n",
        "#         self.dropout4 = nn.Dropout(p = 0.4)\n",
        "\n",
        "#         self.fc1 = nn.Linear(256*12*12, 1000)\n",
        "#         self.dropout5 = nn.Dropout(p = 0.5)\n",
        "#         self.fc2 = nn.Linear(1000, 1000)\n",
        "#         self.dropout6 = nn.Dropout(p = 0.6)\n",
        "#         self.fc3 = nn.Linear(1000, 250)\n",
        "#         self.dropout7 = nn.Dropout(p = 0.7)\n",
        "#         self.fc4 = nn.Linear(250, 120)\n",
        "\n",
        "\n",
        "#     def forward(self, x):\n",
        "#         x = self.dropout1(self.pool1(F.relu(self.bn1(self.conv1(x)))))\n",
        "#         x = self.dropout2(self.pool2(F.relu(self.bn2(self.conv2(x)))))\n",
        "#         x = self.dropout3(self.pool3(F.relu(self.bn3(self.conv3(x)))))\n",
        "#         x = self.dropout4(self.pool4(F.relu(self.bn4(self.conv4(x)))))\n",
        "#         x = x.view(x.size(0), -1)\n",
        "#         x = self.dropout5(self.fc1(x))\n",
        "#         x = self.dropout6(self.fc2(x))\n",
        "#         x = self.dropout7(self.fc3(x))\n",
        "#         x = self.fc4(x)\n",
        "#         x = F.log_softmax(x, dim=1)\n",
        "#         return x\n",
        "\n"
      ],
      "execution_count": 0,
      "outputs": []
    },
    {
      "metadata": {
        "id": "a8FF3Hl8xSzX",
        "colab_type": "code",
        "colab": {}
      },
      "cell_type": "code",
      "source": [
        "def multi_class_cross_entropy_loss_torch(predictions, labels):\n",
        "    \"\"\"\n",
        "    Calculate multi-class cross entropy loss for every pixel in an image, for every image in a batch.\n",
        "\n",
        "    In the implementation,\n",
        "    - the first sum is over all classes,\n",
        "    - the second sum is over all rows of the image,\n",
        "    - the third sum is over all columns of the image\n",
        "    - the last mean is over the batch of images.\n",
        "    \n",
        "    :param predictions: Output prediction of the neural network.\n",
        "    :param labels: Correct labels.\n",
        "    :return: Computed multi-class cross entropy loss.\n",
        "    \"\"\"\n",
        "    labels = labels.float()\n",
        "    log_predictions = torch.log(predictions)\n",
        "    print(log_predictions)\n",
        "    xxx = torch.sum(labels * log_predictions, dim=1)\n",
        "    print(xxx)\n",
        "    xxxx = torch.sum(xxx, dim=1)\n",
        "    loss = -torch.mean(xxxx)\n",
        "\n",
        "#     loss = -torch.mean(torch.sum(xxxx, dim=1))\n",
        "    return loss"
      ],
      "execution_count": 0,
      "outputs": []
    },
    {
      "metadata": {
        "id": "2W2kijdBpcyV",
        "colab_type": "code",
        "colab": {
          "base_uri": "https://localhost:8080/",
          "height": 204
        },
        "outputId": "b0863bf7-d0e1-4091-b215-c55428e8f8f0"
      },
      "cell_type": "code",
      "source": [
        "num_epochs = 1\n",
        "batch_size = 1\n",
        "learning_rate = 0.0028\n",
        "log_freq=25\n",
        "net = Net()\n",
        "      \n",
        "optimizer = optim.Adam(net.parameters(), lr=learning_rate)\n",
        "\n",
        "log_dir = f'./logs/PRELIM_lr{learning_rate}'\n",
        "criterion = nn.CrossEntropyLoss().to(device)\n",
        "criterion = multi_class_cross_entropy_loss_torch\n",
        "    \n",
        "model = train_model(net,\n",
        "                log_dir,\n",
        "                train_loader,\n",
        "                criterion,\n",
        "                optimizer,\n",
        "                num_epochs, log_freq)\n",
        "\n",
        "final_acc = test_model(model, criterion, test_loader)\n",
        "\n"
      ],
      "execution_count": 16,
      "outputs": [
        {
          "output_type": "stream",
          "text": [
            "4086782.0\n",
            "torch.Size([1, 64, 13])\n",
            "torch.Size([1, 64, 13])\n",
            "tensor([[nan, nan, nan, nan, nan, nan, nan, nan, nan, nan, nan, nan, nan]],\n",
            "       device='cuda:0', grad_fn=<SumBackward2>)\n",
            "0: Training loss: nan\n",
            "0: Training accuracy: 0.006009615492075682\n",
            "tensor([[nan, nan, nan, nan, nan, nan, nan, nan, nan, nan, nan, nan, nan]],\n",
            "       device='cuda:0')\n",
            "Accuracy of the network on test images: 0.007211538963019848\n",
            "Avg. Loss of the network on test images: nan\n"
          ],
          "name": "stdout"
        }
      ]
    },
    {
      "metadata": {
        "id": "ZizjKjswtQQJ",
        "colab_type": "code",
        "colab": {}
      },
      "cell_type": "code",
      "source": [
        ""
      ],
      "execution_count": 0,
      "outputs": []
    },
    {
      "metadata": {
        "id": "TstUoBOOpcym",
        "colab_type": "code",
        "colab": {}
      },
      "cell_type": "code",
      "source": [
        ""
      ],
      "execution_count": 0,
      "outputs": []
    },
    {
      "metadata": {
        "id": "NnLTBOOrpcyr",
        "colab_type": "code",
        "colab": {}
      },
      "cell_type": "code",
      "source": [
        ""
      ],
      "execution_count": 0,
      "outputs": []
    },
    {
      "metadata": {
        "id": "ZOU7Z3gxpcyt",
        "colab_type": "code",
        "colab": {}
      },
      "cell_type": "code",
      "source": [
        ""
      ],
      "execution_count": 0,
      "outputs": []
    },
    {
      "metadata": {
        "id": "TtBdqd5rpcyx",
        "colab_type": "code",
        "colab": {}
      },
      "cell_type": "code",
      "source": [
        ""
      ],
      "execution_count": 0,
      "outputs": []
    },
    {
      "metadata": {
        "id": "mPlLCnefpcyy",
        "colab_type": "code",
        "colab": {}
      },
      "cell_type": "code",
      "source": [
        ""
      ],
      "execution_count": 0,
      "outputs": []
    },
    {
      "metadata": {
        "id": "JK8UGLOopcy1",
        "colab_type": "code",
        "colab": {},
        "outputId": "60d88b06-e337-42da-d33e-05b3bba9a134"
      },
      "cell_type": "code",
      "source": [
        "onehot_from_fen('4kN1N-B1P5-QQ3B2-R1n1b3-8-1p2P3-1K6-6b1')"
      ],
      "execution_count": 0,
      "outputs": [
        {
          "output_type": "execute_result",
          "data": {
            "text/plain": [
              "array([[ 0.,  0.,  0.,  0.,  0.,  0.,  0.,  0.,  0.,  0.,  0.,  0.,  1.],\n",
              "       [ 0.,  0.,  0.,  0.,  0.,  0.,  0.,  0.,  0.,  0.,  0.,  0.,  1.],\n",
              "       [ 0.,  0.,  0.,  0.,  0.,  0.,  0.,  0.,  0.,  0.,  0.,  0.,  1.],\n",
              "       [ 0.,  0.,  0.,  0.,  0.,  0.,  0.,  0.,  0.,  0.,  0.,  0.,  1.],\n",
              "       [ 0.,  0.,  0.,  0.,  1.,  0.,  0.,  0.,  0.,  0.,  0.,  0.,  0.],\n",
              "       [ 0.,  0.,  0.,  0.,  0.,  0.,  0.,  0.,  0.,  1.,  0.,  0.,  0.],\n",
              "       [ 0.,  0.,  0.,  0.,  0.,  0.,  0.,  0.,  0.,  0.,  0.,  0.,  1.],\n",
              "       [ 0.,  0.,  0.,  0.,  0.,  0.,  0.,  0.,  0.,  1.,  0.,  0.,  0.],\n",
              "       [ 0.,  0.,  0.,  0.,  0.,  0.,  0.,  0.,  1.,  0.,  0.,  0.,  0.],\n",
              "       [ 0.,  0.,  0.,  0.,  0.,  0.,  0.,  0.,  0.,  0.,  0.,  0.,  1.],\n",
              "       [ 0.,  0.,  0.,  0.,  0.,  0.,  1.,  0.,  0.,  0.,  0.,  0.,  0.],\n",
              "       [ 0.,  0.,  0.,  0.,  0.,  0.,  0.,  0.,  0.,  0.,  0.,  0.,  1.],\n",
              "       [ 0.,  0.,  0.,  0.,  0.,  0.,  0.,  0.,  0.,  0.,  0.,  0.,  1.],\n",
              "       [ 0.,  0.,  0.,  0.,  0.,  0.,  0.,  0.,  0.,  0.,  0.,  0.,  1.],\n",
              "       [ 0.,  0.,  0.,  0.,  0.,  0.,  0.,  0.,  0.,  0.,  0.,  0.,  1.],\n",
              "       [ 0.,  0.,  0.,  0.,  0.,  0.,  0.,  0.,  0.,  0.,  0.,  0.,  1.],\n",
              "       [ 0.,  0.,  0.,  0.,  0.,  0.,  0.,  0.,  0.,  0.,  0.,  1.,  0.],\n",
              "       [ 0.,  0.,  0.,  0.,  0.,  0.,  0.,  0.,  0.,  0.,  0.,  1.,  0.],\n",
              "       [ 0.,  0.,  0.,  0.,  0.,  0.,  0.,  0.,  0.,  0.,  0.,  0.,  1.],\n",
              "       [ 0.,  0.,  0.,  0.,  0.,  0.,  0.,  0.,  0.,  0.,  0.,  0.,  1.],\n",
              "       [ 0.,  0.,  0.,  0.,  0.,  0.,  0.,  0.,  0.,  0.,  0.,  0.,  1.],\n",
              "       [ 0.,  0.,  0.,  0.,  0.,  0.,  0.,  0.,  1.,  0.,  0.,  0.,  0.],\n",
              "       [ 0.,  0.,  0.,  0.,  0.,  0.,  0.,  0.,  0.,  0.,  0.,  0.,  1.],\n",
              "       [ 0.,  0.,  0.,  0.,  0.,  0.,  0.,  0.,  0.,  0.,  0.,  0.,  1.],\n",
              "       [ 0.,  0.,  0.,  0.,  0.,  0.,  0.,  1.,  0.,  0.,  0.,  0.,  0.],\n",
              "       [ 0.,  0.,  0.,  0.,  0.,  0.,  0.,  0.,  0.,  0.,  0.,  0.,  1.],\n",
              "       [ 0.,  0.,  0.,  1.,  0.,  0.,  0.,  0.,  0.,  0.,  0.,  0.,  0.],\n",
              "       [ 0.,  0.,  0.,  0.,  0.,  0.,  0.,  0.,  0.,  0.,  0.,  0.,  1.],\n",
              "       [ 0.,  0.,  1.,  0.,  0.,  0.,  0.,  0.,  0.,  0.,  0.,  0.,  0.],\n",
              "       [ 0.,  0.,  0.,  0.,  0.,  0.,  0.,  0.,  0.,  0.,  0.,  0.,  1.],\n",
              "       [ 0.,  0.,  0.,  0.,  0.,  0.,  0.,  0.,  0.,  0.,  0.,  0.,  1.],\n",
              "       [ 0.,  0.,  0.,  0.,  0.,  0.,  0.,  0.,  0.,  0.,  0.,  0.,  1.],\n",
              "       [ 0.,  0.,  0.,  0.,  0.,  0.,  0.,  0.,  0.,  0.,  0.,  0.,  1.],\n",
              "       [ 0.,  0.,  0.,  0.,  0.,  0.,  0.,  0.,  0.,  0.,  0.,  0.,  1.],\n",
              "       [ 0.,  0.,  0.,  0.,  0.,  0.,  0.,  0.,  0.,  0.,  0.,  0.,  1.],\n",
              "       [ 0.,  0.,  0.,  0.,  0.,  0.,  0.,  0.,  0.,  0.,  0.,  0.,  1.],\n",
              "       [ 0.,  0.,  0.,  0.,  0.,  0.,  0.,  0.,  0.,  0.,  0.,  0.,  1.],\n",
              "       [ 0.,  0.,  0.,  0.,  0.,  0.,  0.,  0.,  0.,  0.,  0.,  0.,  1.],\n",
              "       [ 0.,  0.,  0.,  0.,  0.,  0.,  0.,  0.,  0.,  0.,  0.,  0.,  1.],\n",
              "       [ 0.,  0.,  0.,  0.,  0.,  0.,  0.,  0.,  0.,  0.,  0.,  0.,  1.],\n",
              "       [ 0.,  0.,  0.,  0.,  0.,  0.,  0.,  0.,  0.,  0.,  0.,  0.,  1.],\n",
              "       [ 1.,  0.,  0.,  0.,  0.,  0.,  0.,  0.,  0.,  0.,  0.,  0.,  0.],\n",
              "       [ 0.,  0.,  0.,  0.,  0.,  0.,  0.,  0.,  0.,  0.,  0.,  0.,  1.],\n",
              "       [ 0.,  0.,  0.,  0.,  0.,  0.,  0.,  0.,  0.,  0.,  0.,  0.,  1.],\n",
              "       [ 0.,  0.,  0.,  0.,  0.,  0.,  1.,  0.,  0.,  0.,  0.,  0.,  0.],\n",
              "       [ 0.,  0.,  0.,  0.,  0.,  0.,  0.,  0.,  0.,  0.,  0.,  0.,  1.],\n",
              "       [ 0.,  0.,  0.,  0.,  0.,  0.,  0.,  0.,  0.,  0.,  0.,  0.,  1.],\n",
              "       [ 0.,  0.,  0.,  0.,  0.,  0.,  0.,  0.,  0.,  0.,  0.,  0.,  1.],\n",
              "       [ 0.,  0.,  0.,  0.,  0.,  0.,  0.,  0.,  0.,  0.,  0.,  0.,  1.],\n",
              "       [ 0.,  0.,  0.,  0.,  0.,  0.,  0.,  0.,  0.,  0.,  1.,  0.,  0.],\n",
              "       [ 0.,  0.,  0.,  0.,  0.,  0.,  0.,  0.,  0.,  0.,  0.,  0.,  1.],\n",
              "       [ 0.,  0.,  0.,  0.,  0.,  0.,  0.,  0.,  0.,  0.,  0.,  0.,  1.],\n",
              "       [ 0.,  0.,  0.,  0.,  0.,  0.,  0.,  0.,  0.,  0.,  0.,  0.,  1.],\n",
              "       [ 0.,  0.,  0.,  0.,  0.,  0.,  0.,  0.,  0.,  0.,  0.,  0.,  1.],\n",
              "       [ 0.,  0.,  0.,  0.,  0.,  0.,  0.,  0.,  0.,  0.,  0.,  0.,  1.],\n",
              "       [ 0.,  0.,  0.,  0.,  0.,  0.,  0.,  0.,  0.,  0.,  0.,  0.,  1.],\n",
              "       [ 0.,  0.,  0.,  0.,  0.,  0.,  0.,  0.,  0.,  0.,  0.,  0.,  1.],\n",
              "       [ 0.,  0.,  0.,  0.,  0.,  0.,  0.,  0.,  0.,  0.,  0.,  0.,  1.],\n",
              "       [ 0.,  0.,  0.,  0.,  0.,  0.,  0.,  0.,  0.,  0.,  0.,  0.,  1.],\n",
              "       [ 0.,  0.,  0.,  0.,  0.,  0.,  0.,  0.,  0.,  0.,  0.,  0.,  1.],\n",
              "       [ 0.,  0.,  0.,  0.,  0.,  0.,  0.,  0.,  0.,  0.,  0.,  0.,  1.],\n",
              "       [ 0.,  0.,  0.,  0.,  0.,  0.,  0.,  0.,  0.,  0.,  0.,  0.,  1.],\n",
              "       [ 0.,  0.,  1.,  0.,  0.,  0.,  0.,  0.,  0.,  0.,  0.,  0.,  0.],\n",
              "       [ 0.,  0.,  0.,  0.,  0.,  0.,  0.,  0.,  0.,  0.,  0.,  0.,  1.]])"
            ]
          },
          "metadata": {
            "tags": []
          },
          "execution_count": 10
        }
      ]
    },
    {
      "metadata": {
        "id": "WlaNAo6ppcy4",
        "colab_type": "code",
        "colab": {},
        "outputId": "5d397cff-ef6e-46d5-8082-51e8b244b42e"
      },
      "cell_type": "code",
      "source": [
        "! pip install Image"
      ],
      "execution_count": 0,
      "outputs": [
        {
          "output_type": "stream",
          "text": [
            "Requirement already satisfied: Image in /Users/Sam/.virtualenvs/jup/lib/python3.6/site-packages (1.5.27)\n",
            "Requirement already satisfied: django in /Users/Sam/.virtualenvs/jup/lib/python3.6/site-packages (from Image) (2.1.7)\n",
            "Requirement already satisfied: pillow in /Users/Sam/.virtualenvs/jup/lib/python3.6/site-packages (from Image) (5.4.1)\n",
            "Requirement already satisfied: pytz in /Users/Sam/.virtualenvs/jup/lib/python3.6/site-packages (from django->Image) (2017.3)\n",
            "\u001b[33mYou are using pip version 19.0.2, however version 19.0.3 is available.\n",
            "You should consider upgrading via the 'pip install --upgrade pip' command.\u001b[0m\n"
          ],
          "name": "stdout"
        }
      ]
    },
    {
      "metadata": {
        "id": "knTCzc3Gpcy9",
        "colab_type": "code",
        "colab": {}
      },
      "cell_type": "code",
      "source": [
        ""
      ],
      "execution_count": 0,
      "outputs": []
    },
    {
      "metadata": {
        "id": "ywR6A-Gepcy_",
        "colab_type": "code",
        "colab": {},
        "outputId": "ba03963a-7464-4c91-e57c-26909681bed6"
      },
      "cell_type": "code",
      "source": [
        "%matplotlib inline\n",
        "\n",
        "# from matplotlib.pyplot import imshow\n",
        "# import matplotlib.pyplot as plt\n",
        "from draw_chess_boards import *\n",
        "\n",
        "renderer = DrawChessPosition(delimiter='-')\n",
        "fen = \"r2q1rk1/pp2ppbp/1np2np1/2Q3B1/3PP1b1/2N2N2/PP3PPP/3RKB1R\"\n",
        "fen = \"rnbqkbnr-pppppppp-8-8-8-8-PPPPPPPP-RNBQKBNR\"\n",
        "board = renderer.draw(fen)\n",
        "renderer.show(board)"
      ],
      "execution_count": 0,
      "outputs": [
        {
          "output_type": "display_data",
          "data": {
            "image/png": "[encoded data removed]",
            "text/plain": [
              "<matplotlib.figure.Figure at 0x10661df60>"
            ]
          },
          "metadata": {
            "tags": []
          }
        }
      ]
    },
    {
      "metadata": {
        "id": "RjDdiqGMpczC",
        "colab_type": "code",
        "colab": {}
      },
      "cell_type": "code",
      "source": [
        ""
      ],
      "execution_count": 0,
      "outputs": []
    },
    {
      "metadata": {
        "id": "UATYG6EdpczE",
        "colab_type": "code",
        "colab": {}
      },
      "cell_type": "code",
      "source": [
        "def train(model, optimizer, loss_fn, dataloader, metrics, params):\n",
        "    \"\"\"Train the model on `num_steps` batches\n",
        "\n",
        "    Args:\n",
        "        model: (torch.nn.Module) the neural network\n",
        "        optimizer: (torch.optim) optimizer for parameters of model\n",
        "        loss_fn: a function that takes batch_output and batch_labels and computes the loss for the batch\n",
        "        dataloader: (DataLoader) a torch.utils.data.DataLoader object that fetches training data\n",
        "        metrics: (dict) a dictionary of functions that compute a metric using the output and labels of each batch\n",
        "        params: (Params) hyperparameters\n",
        "        num_steps: (int) number of batches to train on, each of size params.batch_size\n",
        "    \"\"\"\n",
        "\n",
        "    # set model to training mode\n",
        "    model.train()\n",
        "\n",
        "    # summary for current training loop and a running average object for loss\n",
        "    summ = []\n",
        "    loss_avg = RunningAverage()\n",
        "\n",
        "    # Use tqdm for progress bar\n",
        "    with tqdm(total=len(dataloader)) as t:\n",
        "        for i, (train_batch, labels_batch) in enumerate(dataloader):\n",
        "            # move to GPU if available\n",
        "            if params.cuda:\n",
        "                train_batch, labels_batch = train_batch.cuda(async=True), labels_batch.cuda(async=True)\n",
        "            # convert to torch Variables\n",
        "            train_batch, labels_batch = Variable(train_batch), Variable(labels_batch)\n",
        "\n",
        "            # compute model output and loss\n",
        "            output_batch = model(train_batch)\n",
        "            #logger.debug(\"train output_batch.shape = {}. labels_batch.shape = {}\".format(output_batch.shape, labels_batch.shape))\n",
        "\n",
        "            # check if predictions are negative\n",
        "            logger.info(\"negative predictions: {}\".format((output_batch < 0.0).any()))\n",
        "\n",
        "            # compute loss\n",
        "            loss = loss_fn(output_batch, labels_batch)\n",
        "            logger.debug(\"loss: {}\".format(loss.data.item()))\n",
        "\n",
        "            # clear previous gradients, compute gradients of all variables wrt loss\n",
        "            optimizer.zero_grad()\n",
        "            loss.backward()\n",
        "\n",
        "            # performs updates using calculated gradients\n",
        "            optimizer.step()\n",
        "\n",
        "            # Evaluate summaries only once in a while\n",
        "            if i % params.save_summary_steps == 0:\n",
        "                # extract data from torch Variable, move to cpu, convert to numpy arrays\n",
        "                output_batch = output_batch.data.cpu().numpy()\n",
        "                labels_batch = labels_batch.data.cpu().numpy()\n",
        "\n",
        "                # compute all metrics on this batch\n",
        "                summary_batch = {metric:metrics[metric](output_batch, labels_batch)\n",
        "                                 for metric in metrics}\n",
        "                summary_batch['loss'] = loss.data.item()\n",
        "                summ.append(summary_batch)\n",
        "\n",
        "            # update the average loss\n",
        "            loss_avg.update(loss.data.item())\n",
        "\n",
        "            t.set_postfix(loss='{:05.3f}'.format(loss_avg()))\n",
        "            t.update()\n",
        "\n",
        "    # compute mean of all metrics in summary\n",
        "    metrics_mean = {metric:np.mean([x[metric] for x in summ]) for metric in summ[0]}\n",
        "    metrics_string = \" ; \".join(\"{}: {:05.3f}\".format(k, v) for k, v in metrics_mean.items())\n",
        "    logger.info(\"- Train metrics: \" + metrics_string)\n",
        "\n",
        "\n",
        "def train_and_evaluate(model, train_dataloader, val_dataloader, optimizer, loss_fn, metrics, params, model_dir,\n",
        "                       restore_file=None):\n",
        "    \"\"\"Train the model and evaluate every epoch.\n",
        "\n",
        "    Args:\n",
        "        model: (torch.nn.Module) the neural network\n",
        "        train_dataloader: (DataLoader) a torch.utils.data.DataLoader object that fetches training data\n",
        "        val_dataloader: (DataLoader) a torch.utils.data.DataLoader object that fetches validation data\n",
        "        optimizer: (torch.optim) optimizer for parameters of model\n",
        "        loss_fn: a function that takes batch_output and batch_labels and computes the loss for the batch\n",
        "        metrics: (dict) a dictionary of functions that compute a metric using the output and labels of each batch\n",
        "        params: (Params) hyperparameters\n",
        "        model_dir: (string) directory containing config, weights and log\n",
        "        restore_file: (string) optional- name of file to restore from (without its extension .pth.tar)\n",
        "    \"\"\"\n",
        "\n",
        "    # reload weights from restore_file if specified\n",
        "    if restore_file is not None:\n",
        "        restore_path = os.path.join(model_dir, restore_file + '.pth.tar')\n",
        "        logger.info(\"Restoring parameters from {}\".format(restore_path))\n",
        "        load_checkpoint(restore_path, model, optimizer)\n",
        "\n",
        "    best_val_acc = 0.0\n",
        "\n",
        "    for epoch in range(params.num_epochs):\n",
        "        # Run one epoch\n",
        "        logger.info(\"Epoch {}/{}\".format(epoch + 1, params.num_epochs))\n",
        "\n",
        "        # compute number of batches in one epoch (one full pass over the training set)\n",
        "        train(model, optimizer, loss_fn, train_dataloader, metrics=metrics, params=params)\n",
        "\n",
        "        # Evaluate for one epoch on validation set\n",
        "        val_metrics = evaluate(model, loss_fn, val_dataloader, metrics=metrics, params=params)\n",
        "\n",
        "        # TODO: Fix TypeError: 'NoneType' object is not subscriptable\n",
        "        val_acc = val_metrics['accuracy']\n",
        "        is_best = val_acc>=best_val_acc\n",
        "\n",
        "        # Save weights\n",
        "        save_checkpoint({'epoch': epoch + 1,\n",
        "                         'state_dict': model.state_dict(),\n",
        "                         'optim_dict' : optimizer.state_dict()},\n",
        "                          is_best=is_best,\n",
        "                          checkpoint=model_dir)\n",
        "\n",
        "        # If best_eval, best_save_path\n",
        "        if is_best:\n",
        "            logger.info(\"- Found new best accuracy\")\n",
        "            best_val_acc = val_acc\n",
        "\n",
        "            # Save best val metrics in a json file in the model directory\n",
        "            best_json_path = os.path.join(model_dir, \"metrics_val_best_weights.json\")\n",
        "            save_dict_to_json(val_metrics, best_json_path)\n",
        "\n",
        "        # Save latest val metrics in a json file in the model directory\n",
        "        last_json_path = os.path.join(model_dir, \"metrics_val_last_weights.json\")\n",
        "        save_dict_to_json(val_metrics, last_json_path)\n",
        "\n",
        "def main():\n",
        "    # print some log messages\n",
        "    logger.info(\"DSTL Satellite Imagery Feature Detection - Train U-Net Model\")\n",
        "\n",
        "    # load parameters\n",
        "    # load parameters from configuration file\n",
        "    params = Params('experiment/unet_model/params_3ch.yaml', ParameterFileType.YAML, ctx=None)\n",
        "\n",
        "    # parameters\n",
        "    logger.debug(\"parameters: \\n{}\\n\".format(pformat(params.dict)))\n",
        "\n",
        "    # use GPU if available\n",
        "    params.cuda = torch.cuda.is_available()\n",
        "\n",
        "    # Set the random seed for reproducible experiments\n",
        "    torch.manual_seed(230)\n",
        "    if params.cuda:\n",
        "        torch.cuda.manual_seed(230)\n",
        "\n",
        "    # dataset parameters, which includes download, input, output and mask generation parameters.\n",
        "    dataset_params = params.dataset\n",
        "    logger.debug(\"dataset parameters: \\n{}\\n\".format(pformat(dataset_params)))\n",
        "\n",
        "    # dataset\n",
        "    logger.info(\"loading datasets...\")\n",
        "    train_set = DSTLSIFDDataset(dataset_params=dataset_params,\n",
        "                                mode='train',\n",
        "                                transform=True,\n",
        "                                transform_mask=None,\n",
        "                                download=False)\n",
        "\n",
        "    dev_set   = DSTLSIFDDataset(dataset_params=dataset_params,\n",
        "                                mode='dev',\n",
        "                                transform=True,\n",
        "                                transform_mask=None,\n",
        "                                download=False)\n",
        "\n",
        "    # dataloader\n",
        "    logger.debug(\"train dataloader, batch size: {}, num workers: {}, cuda: {}\".format(\n",
        "        params.train['batch_size'],\n",
        "        params.train['num_workers'],\n",
        "        params.cuda));\n",
        "\n",
        "    train_dl = DataLoader(dataset=train_set,\n",
        "                          batch_size=params.train['batch_size'],\n",
        "                          shuffle=True,\n",
        "                          num_workers=params.train['num_workers'],\n",
        "                          pin_memory=params.cuda)\n",
        "\n",
        "    logger.debug(\"dev dataloader, batch size: {}, num workers: {}, cuda: {}\".format(\n",
        "        params.valid['batch_size'],\n",
        "        params.valid['num_workers'],\n",
        "        params.cuda));\n",
        "\n",
        "    valid_dl = DataLoader(dataset=dev_set,\n",
        "                          batch_size=params.valid['batch_size'],\n",
        "                          shuffle=True,\n",
        "                          num_workers=params.valid['num_workers'],\n",
        "                          pin_memory=params.cuda)\n",
        "\n",
        "    logger.info(\"- done.\")\n",
        "\n",
        "    # define the model and optimizer\n",
        "    #model = UNet()\n",
        "    model = UNet().cuda() if params.cuda else UNet()\n",
        "    logger.info(\"using adam optimized with lr = {}\".format(float(params.learning_rate)))\n",
        "    optimizer = optim.Adam(model.parameters(), lr=float(params.learning_rate))\n",
        "\n",
        "    # loss function\n",
        "    loss_fn = multi_class_cross_entropy_loss  # nn.MSELoss()  # nn.L1Loss() # nn.CrossEntropyLoss()\n",
        "\n",
        "    # maintain all metrics required in this dictionary- these are used in the training and evaluation loops\n",
        "    metrics = {\n",
        "        'accuracy': accuracy,\n",
        "        # could add more metrics such as accuracy for each token type\n",
        "    }\n",
        "\n",
        "    # train the model\n",
        "    logger.info(\"Starting training for {} epoch(s)\".format(params.num_epochs))\n",
        "\n",
        "    data_dir = \"data/\"\n",
        "    model_dir = \"experiment/unet_model\"\n",
        "\n",
        "    train_and_evaluate(model=model,\n",
        "                       train_dataloader=train_dl,\n",
        "                       val_dataloader=valid_dl,\n",
        "                       optimizer=optimizer,\n",
        "                       loss_fn=loss_fn,\n",
        "                       metrics=metrics,\n",
        "                       params=params,\n",
        "                       model_dir=data_dir,\n",
        "                       restore_file=None)\n",
        "\n",
        "\n",
        "if __name__ == '__main__':\n",
        "    main()"
      ],
      "execution_count": 0,
      "outputs": []
    }
  ]
}